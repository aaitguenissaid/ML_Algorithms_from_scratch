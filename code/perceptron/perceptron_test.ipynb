{
 "cells": [
  {
   "cell_type": "code",
   "execution_count": 1,
   "id": "d9ec1524",
   "metadata": {},
   "outputs": [],
   "source": [
    "from perceptron import Perceptron "
   ]
  },
  {
   "cell_type": "code",
   "execution_count": 2,
   "id": "6f948601",
   "metadata": {
    "scrolled": true
   },
   "outputs": [],
   "source": [
    "# AND data example\n",
    "x=[[+1,+1],[-1,+1],[-1,-1],[+1,-1]]\n",
    "y=[+1,-1,-1,-1]\n",
    "\n",
    "model = Perceptron(1, 10)\n",
    "model.fit(x, y)"
   ]
  },
  {
   "cell_type": "code",
   "execution_count": 3,
   "id": "02a000e8",
   "metadata": {},
   "outputs": [
    {
     "name": "stdout",
     "output_type": "stream",
     "text": [
      "model.bias = -1.0\n",
      "model.weights = [1.0, 1.0]\n",
      "y = [1, -1, -1, -1]\n",
      "ŷ = [1, -1, -1, -1]\n"
     ]
    }
   ],
   "source": [
    "print(\"model.bias =\", model.bias)\n",
    "print(\"model.weights =\", model.weights)\n",
    "print(\"y =\", y)\n",
    "print(\"ŷ =\", model.predict(x))"
   ]
  },
  {
   "cell_type": "code",
   "execution_count": null,
   "id": "3c15348a",
   "metadata": {},
   "outputs": [],
   "source": []
  }
 ],
 "metadata": {
  "kernelspec": {
   "display_name": "Python 3 (ipykernel)",
   "language": "python",
   "name": "python3"
  },
  "language_info": {
   "codemirror_mode": {
    "name": "ipython",
    "version": 3
   },
   "file_extension": ".py",
   "mimetype": "text/x-python",
   "name": "python",
   "nbconvert_exporter": "python",
   "pygments_lexer": "ipython3",
   "version": "3.11.3"
  }
 },
 "nbformat": 4,
 "nbformat_minor": 5
}
